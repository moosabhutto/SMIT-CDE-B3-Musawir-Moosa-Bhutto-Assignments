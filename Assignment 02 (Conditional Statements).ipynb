{
 "cells": [
  {
   "cell_type": "markdown",
   "metadata": {},
   "source": [
    "1) A company decided to give bonus of 5% to employee if his/her year of service is more than 5 years.\n",
    "Ask user for their salary and year of service and print the net bonus amount."
   ]
  },
  {
   "cell_type": "code",
   "execution_count": 1,
   "metadata": {},
   "outputs": [
    {
     "name": "stdin",
     "output_type": "stream",
     "text": [
      "Please enter your salary:  60000\n",
      "Please enter your years of service:  10\n"
     ]
    },
    {
     "name": "stdout",
     "output_type": "stream",
     "text": [
      "Great news! You are eligible for a bonus of 3000.00.\n"
     ]
    }
   ],
   "source": [
    "#Type your code here\n",
    "\n",
    "salary = float(input(\"Please enter your salary: \"))\n",
    "years_of_service = int(input(\"Please enter your years of service: \"))\n",
    "\n",
    "if years_of_service > 5:\n",
    "    bonus = salary * 0.05\n",
    "    print(f\"Great news! You are eligible for a bonus of {bonus:.2f}.\")\n",
    "else:\n",
    "    print(\"Unfortunately, you are not eligible for a bonus at this time.\")\n",
    "    "
   ]
  },
  {
   "cell_type": "markdown",
   "metadata": {},
   "source": [
    "\n",
    "2) Write a program to check whether a person is eligible for voting or not. (accept age from user) if age is greater than 17 eligible otherwise not eligible"
   ]
  },
  {
   "cell_type": "code",
   "execution_count": 2,
   "metadata": {},
   "outputs": [
    {
     "name": "stdin",
     "output_type": "stream",
     "text": [
      "Please enter your age:  18\n"
     ]
    },
    {
     "name": "stdout",
     "output_type": "stream",
     "text": [
      "Congratulations! You are eligible to vote.\n"
     ]
    }
   ],
   "source": [
    "\n",
    "age = int(input(\"Please enter your age: \"))\n",
    "if age > 17:\n",
    "    print(\"Congratulations! You are eligible to vote.\")\n",
    "else:\n",
    "    print(\"Sorry, you are not eligible to vote yet.\")\n"
   ]
  },
  {
   "cell_type": "markdown",
   "metadata": {},
   "source": [
    "\n",
    "3) Write a program to check whether a number entered by user is even or odd."
   ]
  },
  {
   "cell_type": "code",
   "execution_count": 3,
   "metadata": {},
   "outputs": [
    {
     "name": "stdin",
     "output_type": "stream",
     "text": [
      "Please enter a number:  89\n"
     ]
    },
    {
     "name": "stdout",
     "output_type": "stream",
     "text": [
      "The number you entered is odd.\n"
     ]
    }
   ],
   "source": [
    "\n",
    "number = int(input(\"Please enter a number: \"))\n",
    "if number % 2 == 0:\n",
    "    print(\"The number you entered is even.\")\n",
    "else:\n",
    "    print(\"The number you entered is odd.\")"
   ]
  },
  {
   "cell_type": "markdown",
   "metadata": {},
   "source": [
    "4) Write a program to check whether a number is divisible by 7 or not.\n",
    "Show Answer"
   ]
  },
  {
   "cell_type": "code",
   "execution_count": 4,
   "metadata": {},
   "outputs": [
    {
     "name": "stdin",
     "output_type": "stream",
     "text": [
      "Please enter a number:  21\n"
     ]
    },
    {
     "name": "stdout",
     "output_type": "stream",
     "text": [
      "Good news! 21 is divisible by 7.\n"
     ]
    }
   ],
   "source": [
    "\n",
    "number = int(input(\"Please enter a number: \"))\n",
    "if number % 7 == 0:\n",
    "    print(f\"Good news! {number} is divisible by 7.\")\n",
    "else:\n",
    "    print(f\"Sorry, {number} is not divisible by 7.\")"
   ]
  },
  {
   "cell_type": "markdown",
   "metadata": {},
   "source": [
    "5) Write a program to display \n",
    "\"Hello\" if a number entered by user is a multiple of five , otherwise print \"Bye\"."
   ]
  },
  {
   "cell_type": "code",
   "execution_count": 5,
   "metadata": {},
   "outputs": [
    {
     "name": "stdin",
     "output_type": "stream",
     "text": [
      "Please enter a number:  30\n"
     ]
    },
    {
     "name": "stdout",
     "output_type": "stream",
     "text": [
      "Hello\n"
     ]
    }
   ],
   "source": [
    "\n",
    "number = int(input(\"Please enter a number: \"))\n",
    "if number % 5 == 0:\n",
    "    print(\"Hello\")\n",
    "else:\n",
    "    print(\"Bye\")"
   ]
  },
  {
   "cell_type": "markdown",
   "metadata": {},
   "source": [
    "7) Write a program to display the last digit of a number.\n"
   ]
  },
  {
   "cell_type": "code",
   "execution_count": 6,
   "metadata": {},
   "outputs": [
    {
     "name": "stdin",
     "output_type": "stream",
     "text": [
      "Please enter a number:  56\n"
     ]
    },
    {
     "name": "stdout",
     "output_type": "stream",
     "text": [
      "The last digit of 56 is: 6. Pretty neat, right?\n"
     ]
    }
   ],
   "source": [
    "\n",
    "number = int(input(\"Please enter a number: \"))\n",
    "last_digit = number % 10\n",
    "print(f\"The last digit of {number} is: {last_digit}. Pretty neat, right?\")"
   ]
  },
  {
   "cell_type": "markdown",
   "metadata": {},
   "source": [
    "9) Take values of length and breadth of a rectangle from user and print if it is square or rectangle."
   ]
  },
  {
   "cell_type": "code",
   "execution_count": 7,
   "metadata": {},
   "outputs": [
    {
     "name": "stdin",
     "output_type": "stream",
     "text": [
      "Please enter the length:  50\n",
      "Please enter the breadth:  25\n"
     ]
    },
    {
     "name": "stdout",
     "output_type": "stream",
     "text": [
      "Because the length and breadth are different, it's a rectangle.\n"
     ]
    }
   ],
   "source": [
    "\n",
    "length = float(input(\"Please enter the length: \"))\n",
    "breadth = float(input(\"Please enter the breadth: \"))\n",
    "if length == breadth:\n",
    "    print(\"Since the length and breadth are the same, it's a square!\")\n",
    "else:\n",
    "    print(\"Because the length and breadth are different, it's a rectangle.\") "
   ]
  },
  {
   "cell_type": "markdown",
   "metadata": {},
   "source": [
    "10) Take two int values from user and print greatest among them."
   ]
  },
  {
   "cell_type": "code",
   "execution_count": 8,
   "metadata": {},
   "outputs": [
    {
     "name": "stdin",
     "output_type": "stream",
     "text": [
      "Enter the first number:  69\n",
      "Enter the second number:  420\n"
     ]
    },
    {
     "name": "stdout",
     "output_type": "stream",
     "text": [
      "The greatest number is 420.\n"
     ]
    }
   ],
   "source": [
    "\n",
    "num1 = int(input(\"Enter the first number: \"))\n",
    "num2 = int(input(\"Enter the second number: \"))\n",
    "\n",
    "if num1 > num2:\n",
    "    print(f\"The greatest number is {num1}.\")\n",
    "elif num2 > num1:\n",
    "    print(f\"The greatest number is {num2}.\")\n",
    "else:\n",
    "    print(\"Both numbers are equal!\")"
   ]
  },
  {
   "cell_type": "markdown",
   "metadata": {},
   "source": [
    "11) A shop will give discount of 10% if the cost of purchased quantity is more than 1000.\n",
    "Ask user for quantity\n",
    "Suppose, one unit will cost 100.\n",
    "Judge and print total cost for user."
   ]
  },
  {
   "cell_type": "code",
   "execution_count": 10,
   "metadata": {},
   "outputs": [
    {
     "name": "stdin",
     "output_type": "stream",
     "text": [
      "Enter the quantity you want to purchase:  2000\n"
     ]
    },
    {
     "name": "stdout",
     "output_type": "stream",
     "text": [
      "You get a 10% discount. Your total cost is: 180000.00\n"
     ]
    }
   ],
   "source": [
    "\n",
    "quantity = int(input(\"Enter the quantity you want to purchase: \"))\n",
    "unit_price = 100\n",
    "total_cost = quantity * unit_price\n",
    "\n",
    "if total_cost > 1000:\n",
    "    discount = total_cost * 0.10\n",
    "    total_cost = total_cost - discount\n",
    "    print(f\"You get a 10% discount. Your total cost is: {total_cost:.2f}\")\n",
    "else:\n",
    "    print(f\"No discount applied. Your total cost is: {total_cost:.2f}\")"
   ]
  },
  {
   "cell_type": "markdown",
   "metadata": {},
   "source": [
    "12) A school has following rules for grading system:\n",
    "\n",
    "a. Below 25 - F\n",
    "\n",
    "b. 25 to 45 - E\n",
    "\n",
    "c. 45 to 50 - D\n",
    "\n",
    "d. 50 to 60 - C\n",
    "\n",
    "e. 60 to 80 - B\n",
    "\n",
    "f. Above 80 - A\n",
    "\n",
    "Ask user to enter marks and print the corresponding grade."
   ]
  },
  {
   "cell_type": "code",
   "execution_count": 11,
   "metadata": {},
   "outputs": [
    {
     "name": "stdin",
     "output_type": "stream",
     "text": [
      "Enter your marks:  69\n"
     ]
    },
    {
     "name": "stdout",
     "output_type": "stream",
     "text": [
      "Your grade is: B\n"
     ]
    }
   ],
   "source": [
    "\n",
    "marks = int(input(\"Enter your marks: \"))\n",
    "\n",
    "if marks < 25:\n",
    "    grade = 'F'\n",
    "elif 25 <= marks < 45:\n",
    "    grade = 'E'\n",
    "elif 45 <= marks < 50:\n",
    "    grade = 'D'\n",
    "elif 50 <= marks < 60:\n",
    "    grade = 'C'\n",
    "elif 60 <= marks < 80:\n",
    "    grade = 'B'\n",
    "else:\n",
    "    grade = 'A'\n",
    "\n",
    "print(f\"Your grade is: {grade}\")"
   ]
  },
  {
   "cell_type": "markdown",
   "metadata": {},
   "source": [
    "14)A student will not be allowed to sit in exam if his/her attendence is less than 75%.\n",
    "\n",
    "Take following input from user\n",
    "\n",
    "Number of classes held\n",
    "\n",
    "Number of classes attended.\n",
    "\n",
    "And print\n",
    "\n",
    "percentage of class attended\n",
    "\n",
    "Is student is allowed to sit in exam or not.\n"
   ]
  },
  {
   "cell_type": "code",
   "execution_count": 12,
   "metadata": {},
   "outputs": [
    {
     "name": "stdin",
     "output_type": "stream",
     "text": [
      "Enter the total number of classes held:  100\n",
      "Enter the number of classes you attended:  74\n"
     ]
    },
    {
     "name": "stdout",
     "output_type": "stream",
     "text": [
      "Attendance percentage: 74.00%\n",
      "Sorry, you are not allowed to sit in the exam.\n"
     ]
    }
   ],
   "source": [
    "\n",
    "total_classes = int(input(\"Enter the total number of classes held: \"))\n",
    "attended_classes = int(input(\"Enter the number of classes you attended: \"))\n",
    "\n",
    "attendance_percentage = (attended_classes / total_classes) * 100\n",
    "\n",
    "print(f\"Attendance percentage: {attendance_percentage:.2f}%\")\n",
    "\n",
    "if attendance_percentage < 75:\n",
    "    print(\"Sorry, you are not allowed to sit in the exam.\")\n",
    "else:\n",
    "    print(\"You are allowed to sit in the exam.\")"
   ]
  },
  {
   "cell_type": "markdown",
   "metadata": {},
   "source": [
    "15) Modify the above question to allow student to sit if he/she has medical cause. Ask user if he/she has medical cause or not ( 'Y' or 'N' ) and print accordingly."
   ]
  },
  {
   "cell_type": "code",
   "execution_count": 13,
   "metadata": {},
   "outputs": [
    {
     "name": "stdin",
     "output_type": "stream",
     "text": [
      "How many classes were held?  100\n",
      "How many did you attend?  74\n"
     ]
    },
    {
     "name": "stdout",
     "output_type": "stream",
     "text": [
      "You attended 74.00% of your classes.\n"
     ]
    },
    {
     "name": "stdin",
     "output_type": "stream",
     "text": [
      "Do you have a medical reason? (Y/N)  y\n"
     ]
    },
    {
     "name": "stdout",
     "output_type": "stream",
     "text": [
      "You can sit for the exam.\n"
     ]
    }
   ],
   "source": [
    "\n",
    "total = int(input(\"How many classes were held? \"))\n",
    "attended = int(input(\"How many did you attend? \"))\n",
    "\n",
    "percent = (attended / total) * 100\n",
    "print(f\"You attended {percent:.2f}% of your classes.\")\n",
    "\n",
    "medical = input(\"Do you have a medical reason? (Y/N) \").strip().upper()\n",
    "\n",
    "if percent >= 75 or medical == 'Y':\n",
    "    print(\"You can sit for the exam.\")\n",
    "else:\n",
    "    print(\"Sorry, you can't sit for the exam.\")"
   ]
  },
  {
   "cell_type": "markdown",
   "metadata": {},
   "source": [
    "16) Write a program to check if a year is leap year or not.\n",
    "\n",
    "If a year is divisible by 4 then it is leap year but if the year is century year like 2000, 1900, 2100 then it must be divisible by 400."
   ]
  },
  {
   "cell_type": "code",
   "execution_count": 14,
   "metadata": {},
   "outputs": [
    {
     "name": "stdin",
     "output_type": "stream",
     "text": [
      "Enter a year:  2000\n"
     ]
    },
    {
     "name": "stdout",
     "output_type": "stream",
     "text": [
      "2000 is a leap year.\n"
     ]
    }
   ],
   "source": [
    "\n",
    "year = int(input(\"Enter a year: \"))\n",
    "\n",
    "if (year % 4 == 0 and year % 100 != 0) or (year % 400 == 0):\n",
    "    print(f\"{year} is a leap year.\")\n",
    "else:\n",
    "    print(f\"{year} is not a leap year.\")"
   ]
  },
  {
   "cell_type": "markdown",
   "metadata": {},
   "source": [
    "17) Ask user to enter age, gender ( M or F ), marital status ( Y or N ) and then using following rules print their place of service.\n",
    "\n",
    "if employee is female, then she will work only in urban areas.\n",
    "\n",
    "if employee is a male and age is in between 20 to 40 then he may work in anywhere\n",
    "\n",
    "if employee is male and age is in between 40 t0 60 then he will work in urban areas only.\n",
    "\n",
    "And any other input of age should print \"ERROR\""
   ]
  },
  {
   "cell_type": "code",
   "execution_count": 15,
   "metadata": {},
   "outputs": [
    {
     "name": "stdin",
     "output_type": "stream",
     "text": [
      "Age:  30\n",
      "Gender (M/F):  M\n",
      "Married? (Y/N):  Y\n"
     ]
    },
    {
     "name": "stdout",
     "output_type": "stream",
     "text": [
      "Work anywhere.\n"
     ]
    }
   ],
   "source": [
    "\n",
    "age = int(input(\"Age: \"))\n",
    "gender = input(\"Gender (M/F): \").strip().upper()\n",
    "_ = input(\"Married? (Y/N): \")  # Not used, but asked as per requirement\n",
    "\n",
    "if gender == 'F':\n",
    "    print(\"Work only in urban areas.\")\n",
    "elif gender == 'M':\n",
    "    if 20 <= age <= 40:\n",
    "        print(\"Work anywhere.\")\n",
    "    elif 40 < age <= 60:\n",
    "        print(\"Work only in urban areas.\")\n",
    "    else:\n",
    "        print(\"ERROR\")\n",
    "else:\n",
    "    print(\"ERROR\")"
   ]
  },
  {
   "cell_type": "markdown",
   "metadata": {},
   "source": [
    "6) Write a program to calculate the electricity bill (accept number of unit from user) according to the following criteria :\n",
    "     Unit                                                     Price  \n",
    "uptp 100 units                                             no charge\n",
    "Next 200 units                                              Rs 5 per unit\n",
    "After 200 units                                             Rs 10 per unit\n",
    "(For example if input unit is 350 than total bill amount is Rs.3500\n",
    "(For example if input unit is 97 than total bill amount is Rs.0\n",
    "(For example if input unit is 150 than total bill amount is Rs.750"
   ]
  },
  {
   "cell_type": "code",
   "execution_count": 18,
   "metadata": {},
   "outputs": [
    {
     "name": "stdin",
     "output_type": "stream",
     "text": [
      "Enter the Unit:  250\n"
     ]
    },
    {
     "name": "stdout",
     "output_type": "stream",
     "text": [
      "2500\n"
     ]
    }
   ],
   "source": [
    "## unit = int(input(\"Enter the Unit: \"))\n",
    "if unit <=100:\n",
    "    print(\"No Charge\")\n",
    "elif unit <= 200:\n",
    "    a = unit*5\n",
    "    print(a)\n",
    "elif unit > 200:\n",
    "    b = unit * 10\n",
    "    print(b)\n",
    "else: \n",
    "    print('Invalid Input')"
   ]
  },
  {
   "cell_type": "markdown",
   "metadata": {},
   "source": [
    "13) Take input of age of 3 people by user and determine oldest and youngest among them."
   ]
  },
  {
   "cell_type": "code",
   "execution_count": 17,
   "metadata": {},
   "outputs": [
    {
     "name": "stdin",
     "output_type": "stream",
     "text": [
      "enter your age 18\n",
      "enter your age 20\n",
      "enter your age 34\n"
     ]
    },
    {
     "name": "stdout",
     "output_type": "stream",
     "text": [
      "this person is oldest: 34\n",
      "this person is youngest: 18\n"
     ]
    }
   ],
   "source": [
    "age1 = int(input(\"enter your age\"))\n",
    "age2 = int(input(\"enter your age\"))\n",
    "age3 = int(input(\"enter your age\"))\n",
    "\n",
    "oldest = max(age1, age2, age3)\n",
    "youngest = min(age1, age2, age3)\n",
    "\n",
    "print(\"this person is oldest:\", oldest)\n",
    "print(\"this person is youngest:\", youngest)"
   ]
  },
  {
   "cell_type": "code",
   "execution_count": null,
   "metadata": {},
   "outputs": [],
   "source": []
  }
 ],
 "metadata": {
  "kernelspec": {
   "display_name": "Python [conda env:base] *",
   "language": "python",
   "name": "conda-base-py"
  },
  "language_info": {
   "codemirror_mode": {
    "name": "ipython",
    "version": 3
   },
   "file_extension": ".py",
   "mimetype": "text/x-python",
   "name": "python",
   "nbconvert_exporter": "python",
   "pygments_lexer": "ipython3",
   "version": "3.12.7"
  }
 },
 "nbformat": 4,
 "nbformat_minor": 4
}
