{
 "cells": [
  {
   "cell_type": "markdown",
   "metadata": {
    "id": "XLFr4w_7OFN7"
   },
   "source": [
    "1. Write a Python program to create a class representing a Circle. Include methods to calculate its area and perimeter."
   ]
  },
  {
   "cell_type": "code",
   "execution_count": 1,
   "metadata": {},
   "outputs": [
    {
     "name": "stdout",
     "output_type": "stream",
     "text": [
      " Welcome to the Circle Calculator \n",
      "This program helps you calculate the area and perimeter of a circle\n"
     ]
    },
    {
     "name": "stdin",
     "output_type": "stream",
     "text": [
      "Please enter the radius of your circle:  25\n"
     ]
    },
    {
     "name": "stdout",
     "output_type": "stream",
     "text": [
      "\n",
      " Results:\n",
      " Radius you entered: 25.0\n",
      " Area of the circle: 1963.50\n",
      " Perimeter (circumference) of the circle: 157.08\n",
      "Thanks for using the Circle Calculator.\n"
     ]
    }
   ],
   "source": [
    "import math\n",
    "\n",
    "class Circle:\n",
    "    def __init__(self, radius):\n",
    "        self.radius = radius\n",
    "    \n",
    "    def area(self):\n",
    "        return math.pi * (self.radius ** 2)\n",
    "    \n",
    "    def perimeter(self):\n",
    "        return 2 * math.pi * self.radius\n",
    "\n",
    "if __name__ == \"__main__\":\n",
    "    print(\" Welcome to the Circle Calculator \")\n",
    "    print(\"This program helps you calculate the area and perimeter of a circle\")\n",
    "    \n",
    "    r = float(input(\"Please enter the radius of your circle: \"))\n",
    "    circle = Circle(r)\n",
    "    \n",
    "    print(\"\\n Results:\")\n",
    "    print(f\" Radius you entered: {r}\")\n",
    "    print(f\" Area of the circle: {circle.area():.2f}\")\n",
    "    print(f\" Perimeter (circumference) of the circle: {circle.perimeter():.2f}\")\n",
    "    print(\"Thanks for using the Circle Calculator.\")"
   ]
  },
  {
   "cell_type": "markdown",
   "metadata": {
    "id": "CBPk4mH4OTCO"
   },
   "source": [
    "2. Write a Python program to create a person class. Include attributes like name, country and date of birth. Implement a method to determine the person's age.\n"
   ]
  },
  {
   "cell_type": "code",
   "execution_count": 1,
   "metadata": {},
   "outputs": [
    {
     "name": "stdout",
     "output_type": "stream",
     "text": [
      "Name: Musawir Bhutto\n",
      "Country: Pakistan\n",
      "Date of Birth: 2003-01-20\n",
      "Age: 22 years old\n"
     ]
    }
   ],
   "source": [
    "from datetime import datetime\n",
    "\n",
    "class Person:\n",
    "    def __init__(self, name, country, dob):\n",
    "        self.name = name\n",
    "        self.country = country\n",
    "        self.dob = datetime.strptime(dob, \"%Y-%m-%d\")  # date of birth in YYYY-MM-DD format\n",
    "\n",
    "    def calculate_age(self):\n",
    "        today = datetime.today()\n",
    "        age = today.year - self.dob.year\n",
    "\n",
    "        # check if birthday has passed this year or not\n",
    "        if (today.month, today.day) < (self.dob.month, self.dob.day):\n",
    "            age -= 1\n",
    "        return age\n",
    "\n",
    "    def display_info(self):\n",
    "        print(f\"Name: {self.name}\")\n",
    "        print(f\"Country: {self.country}\")\n",
    "        print(f\"Date of Birth: {self.dob.strftime('%Y-%m-%d')}\")\n",
    "        print(f\"Age: {self.calculate_age()} years old\")\n",
    "\n",
    "\n",
    "\n",
    "person1 = Person(\"Musawir Bhutto\", \"Pakistan\", \"2003-01-20\")\n",
    "person1.display_info()"
   ]
  },
  {
   "cell_type": "markdown",
   "metadata": {},
   "source": [
    "3. Write a Python program to create a calculator class. Include methods for basic arithmetic operations."
   ]
  },
  {
   "cell_type": "code",
   "execution_count": 8,
   "metadata": {},
   "outputs": [
    {
     "name": "stdout",
     "output_type": "stream",
     "text": [
      "Addition:  15\n",
      "Subtraction:  5\n",
      "Multiplication:  50\n",
      "Division:  2.0\n"
     ]
    }
   ],
   "source": [
    "class Calculator:\n",
    "    def add(self, a, b):\n",
    "        return a + b\n",
    "\n",
    "    def subtract(self, a, b):\n",
    "        return a - b\n",
    "\n",
    "    def multiply(self, a, b):\n",
    "        return a * b\n",
    "\n",
    "    def divide(self, a, b):\n",
    "        if b == 0:\n",
    "            return \"Error! Division by zero.\"\n",
    "        return a / b\n",
    "\n",
    "calc = Calculator()\n",
    "\n",
    "print(\"Addition: \", calc.add(10, 5))\n",
    "print(\"Subtraction: \", calc.subtract(10, 5))\n",
    "print(\"Multiplication: \", calc.multiply(10, 5))\n",
    "print(\"Division: \", calc.divide(10, 5))"
   ]
  },
  {
   "cell_type": "code",
   "execution_count": null,
   "metadata": {},
   "outputs": [],
   "source": []
  }
 ],
 "metadata": {
  "colab": {
   "provenance": []
  },
  "kernelspec": {
   "display_name": "Python [conda env:base] *",
   "language": "python",
   "name": "conda-base-py"
  },
  "language_info": {
   "codemirror_mode": {
    "name": "ipython",
    "version": 3
   },
   "file_extension": ".py",
   "mimetype": "text/x-python",
   "name": "python",
   "nbconvert_exporter": "python",
   "pygments_lexer": "ipython3",
   "version": "3.12.7"
  }
 },
 "nbformat": 4,
 "nbformat_minor": 4
}
