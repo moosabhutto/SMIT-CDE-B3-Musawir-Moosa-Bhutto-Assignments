{
 "cells": [
  {
   "cell_type": "markdown",
   "id": "018ec9e6-35f1-496b-b01d-da90bb9e8812",
   "metadata": {},
   "source": [
    "### ASSIGNMENT 3 (\"STRINGS\")"
   ]
  },
  {
   "cell_type": "markdown",
   "id": "8fc841ca-cbdf-4aa2-a97e-dc526cb95a44",
   "metadata": {},
   "source": [
    "1. Write a program that accepts a string from user. Your program should count and display number of \n",
    "vowels in that string.  "
   ]
  },
  {
   "cell_type": "code",
   "execution_count": 1,
   "id": "032ccb96-5e13-4443-91a8-5ed2f2c5138c",
   "metadata": {},
   "outputs": [
    {
     "name": "stdin",
     "output_type": "stream",
     "text": [
      "Enter any text you like:  my name is abdul mannan malik\n"
     ]
    },
    {
     "name": "stdout",
     "output_type": "stream",
     "text": [
      "Number of vowels in the string is: 9\n"
     ]
    }
   ],
   "source": [
    "\n",
    "user_input = input(\"Enter any text you like: \")\n",
    "vowels = \"aeiouAEIOU\"\n",
    "vowel_count = 0\n",
    "\n",
    "for char in user_input:\n",
    "    if char in vowels:\n",
    "        vowel_count += 1\n",
    "print(\"Number of vowels in the string is:\", vowel_count)"
   ]
  },
  {
   "cell_type": "markdown",
   "id": "2deff9dc-9f7e-45ee-a5c1-c2cd4fdb8ed0",
   "metadata": {},
   "source": [
    "2. Write a program that reads a string from keyboard and display: \n",
    "* The number of uppercase letters in the string \n",
    "* The number of lowercase letters in the string \n",
    "* The number of digits in the string \n",
    "* The number of whitespace characters in the string"
   ]
  },
  {
   "cell_type": "code",
   "execution_count": 3,
   "id": "3dfc2f09-879a-47f4-b242-7fcd187492fd",
   "metadata": {},
   "outputs": [
    {
     "name": "stdin",
     "output_type": "stream",
     "text": [
      "Please enter a string:  My name is Abdul Mannan Malik....\n"
     ]
    },
    {
     "name": "stdout",
     "output_type": "stream",
     "text": [
      "Number of uppercase letters: 4\n",
      "Number of lowercase letters: 20\n",
      "Number of digits: 0\n",
      "Number of whitespace characters: 5\n"
     ]
    }
   ],
   "source": [
    "\n",
    "user_input = input(\"Please enter a string: \")\n",
    "uppercase_count = 0\n",
    "lowercase_count = 0\n",
    "digit_count = 0\n",
    "whitespace_count = 0\n",
    "\n",
    "for char in user_input:\n",
    "    if char.isupper():\n",
    "        uppercase_count += 1\n",
    "    elif char.islower():\n",
    "        lowercase_count += 1\n",
    "    elif char.isdigit():\n",
    "        digit_count += 1\n",
    "    elif char.isspace():\n",
    "        whitespace_count += 1\n",
    "\n",
    "print(\"Number of uppercase letters:\", uppercase_count)\n",
    "print(\"Number of lowercase letters:\", lowercase_count)\n",
    "print(\"Number of digits:\", digit_count)\n",
    "print(\"Number of whitespace characters:\", whitespace_count)"
   ]
  },
  {
   "cell_type": "markdown",
   "id": "c0085c62-a29b-47cc-9a4c-b943063c60af",
   "metadata": {},
   "source": [
    "3. Write a Python program that accepts a string from user. Your program should create and display a \n",
    "new string where the first and last characters have been exchanged. \n",
    "For example if the user enters the string 'HELLO' then new string would be 'OELLH'"
   ]
  },
  {
   "cell_type": "code",
   "execution_count": 1,
   "id": "7952f3a2-dde7-4fe2-adbc-e62acca3b17f",
   "metadata": {},
   "outputs": [
    {
     "name": "stdin",
     "output_type": "stream",
     "text": [
      "Enter a string:  Hello\n"
     ]
    },
    {
     "name": "stdout",
     "output_type": "stream",
     "text": [
      "New string: oellH\n"
     ]
    }
   ],
   "source": [
    "user_input = input(\"Enter a string: \")\n",
    "if len(user_input) > 1:\n",
    "    new_string = user_input[-1] + user_input[1:-1] + user_input[0]\n",
    "else:\n",
    "    new_string = user_input\n",
    "print(\"New string:\", new_string)"
   ]
  },
  {
   "cell_type": "markdown",
   "id": "db2b11fd-a9de-4d09-b4bd-19fdc4180da1",
   "metadata": {},
   "source": [
    "4. Write a Python program that accepts a string from user. Your program should create a new string in \n",
    "reverse of first string and display it.\n",
    " \n",
    "For example if the user enters the string 'EXAM' then new string would be 'MAXE' "
   ]
  },
  {
   "cell_type": "code",
   "execution_count": 10,
   "id": "6bb992aa-6f7e-43c8-9337-61a6509692d8",
   "metadata": {},
   "outputs": [
    {
     "name": "stdin",
     "output_type": "stream",
     "text": [
      "Enter a string:  abdul mannan\n"
     ]
    },
    {
     "name": "stdout",
     "output_type": "stream",
     "text": [
      "The reversed string is: nannam ludba\n"
     ]
    }
   ],
   "source": [
    "\n",
    "user_input = input(\"Enter a string: \")\n",
    "reversed_string = user_input[::-1]\n",
    "\n",
    "print(\"The reversed string is:\", reversed_string)"
   ]
  },
  {
   "cell_type": "markdown",
   "id": "607db34d-9ea8-4797-96db-c373d91dd486",
   "metadata": {},
   "source": [
    "5. Write a Python program that accepts a string from user. Your program should create a new string by \n",
    "shifting one position to left. \n",
    "\n",
    "For example if the user enters the string 'examination 2021' then new string would be 'xamination \n",
    "2021e'"
   ]
  },
  {
   "cell_type": "code",
   "execution_count": 4,
   "id": "e1651fbf-98c5-420c-992c-74e6c068b33b",
   "metadata": {},
   "outputs": [
    {
     "name": "stdin",
     "output_type": "stream",
     "text": [
      "Enter a string:  examination 2021\n"
     ]
    },
    {
     "name": "stdout",
     "output_type": "stream",
     "text": [
      "String after shifting one position to the left: xamination 2021e\n"
     ]
    }
   ],
   "source": [
    "\n",
    "user_input = input(\"Enter a string: \")\n",
    "if len(user_input) > 0:\n",
    "    shifted_string = user_input[1:] + user_input[0]\n",
    "else:\n",
    "    shifted_string = user_input \n",
    "\n",
    "print(\"String after shifting one position to the left:\", shifted_string)"
   ]
  },
  {
   "cell_type": "markdown",
   "id": "d595d09f-717a-4efc-9ffd-aeca25b7f717",
   "metadata": {},
   "source": [
    "6. Write a program that asks the user to input his name and print its initials. Assuming that the user \n",
    "always types first name, middle name and last name and does not include any unnecessary spaces.\n",
    "\n",
    "For example, if the user enters Ajay Kumar Garg the program should display A. K. G. \n",
    "Note:Don't use split() method  "
   ]
  },
  {
   "cell_type": "code",
   "execution_count": 2,
   "id": "9c2d065e-57ea-4872-a810-a2d952ac875e",
   "metadata": {},
   "outputs": [
    {
     "name": "stdin",
     "output_type": "stream",
     "text": [
      "Enter your full name (first middle last):  Musawir Moosa Bhutto\n"
     ]
    },
    {
     "name": "stdout",
     "output_type": "stream",
     "text": [
      "Initials: M. M. B.\n"
     ]
    }
   ],
   "source": [
    "full_name = input(\"Enter your full name (first middle last): \")\n",
    "\n",
    "initials = \"\"\n",
    "for i in range(len(full_name)):\n",
    "    if i == 0 or full_name[i-1] == \" \":\n",
    "        initials += full_name[i] + \". \"\n",
    "\n",
    "print(\"Initials:\", initials.strip())"
   ]
  },
  {
   "cell_type": "markdown",
   "id": "025ece12-c5ee-44f4-91d9-55dbdd947554",
   "metadata": {},
   "source": [
    "7. A palindrome is a string that reads the same backward as forward. For example, the words dad, \n",
    "madam and radar are all palindromes. Write a programs that determines whether the string is a \n",
    "palindrome.\n",
    "\n",
    "Note: do not use reverse() method "
   ]
  },
  {
   "cell_type": "code",
   "execution_count": 13,
   "id": "5a2a00a4-e7db-496c-9aa7-3bdb3bcdebe4",
   "metadata": {},
   "outputs": [
    {
     "name": "stdin",
     "output_type": "stream",
     "text": [
      "Enter a string to check if it is a palindrome:  madam\n"
     ]
    },
    {
     "name": "stdout",
     "output_type": "stream",
     "text": [
      "The string is a palindrome.\n"
     ]
    }
   ],
   "source": [
    "\n",
    "user_input = input(\"Enter a string to check if it is a palindrome: \")\n",
    "start = 0\n",
    "end = len(user_input) - 1\n",
    "is_palindrome = True\n",
    "\n",
    "while start < end:\n",
    "    if user_input[start] != user_input[end]:\n",
    "        is_palindrome = False\n",
    "        break\n",
    "    start += 1\n",
    "    end -= 1\n",
    "    if is_palindrome:\n",
    "    print(\"The string is a palindrome.\")\n",
    "else:\n",
    "    print(\"The string is not a palindrome.\")"
   ]
  },
  {
   "cell_type": "markdown",
   "id": "878fcc9e-064a-4b83-bd55-36923c0bcb35",
   "metadata": {},
   "source": [
    "8. Write a program that display following output: \n",
    "SHIFT, \n",
    "HIFTS, \n",
    "IFTSH, \n",
    "FTSHI, \n",
    "TSHIF, \n",
    "SHIFT, "
   ]
  },
  {
   "cell_type": "code",
   "execution_count": 14,
   "id": "8b032a8b-2ad2-4db5-97b9-14f8cb0401b1",
   "metadata": {},
   "outputs": [
    {
     "name": "stdout",
     "output_type": "stream",
     "text": [
      "SHIFT, HIFTS, IFTSH, FTSHI, TSHIF, SHIFT, "
     ]
    }
   ],
   "source": [
    "word = \"SHIFT\"\n",
    "\n",
    "for i in range(len(word) + 1):\n",
    "    shifted = word[i:] + word[:i]\n",
    "    print(shifted + \",\", end=\" \")"
   ]
  },
  {
   "cell_type": "markdown",
   "id": "ef37d0d6-13cd-4f27-b5a6-3ee2cf755ec6",
   "metadata": {},
   "source": [
    "9. Write a program in python that accepts a string to setup a passwords. Your entered password must \n",
    "meet the following requirements:\n",
    "\n",
    "The password must be at least eight characters long. \n",
    "It must contain at least one uppercase letter. \n",
    "It must contain at least one lowercase letter. \n",
    "It must contain at least one numeric digit. \n",
    "Your program should should perform this validation. "
   ]
  },
  {
   "cell_type": "code",
   "execution_count": 3,
   "id": "fbd1f587-2908-4761-9701-0b28cbd45855",
   "metadata": {},
   "outputs": [
    {
     "name": "stdin",
     "output_type": "stream",
     "text": [
      "Enter a password:  Bhutto98\n"
     ]
    },
    {
     "name": "stdout",
     "output_type": "stream",
     "text": [
      "Password is valid.\n"
     ]
    }
   ],
   "source": [
    "\n",
    "password = input(\"Enter a password: \")\n",
    "has_upper = False\n",
    "has_lower = False\n",
    "has_digit = False\n",
    "\n",
    "for char in password:\n",
    "    if char.isupper():\n",
    "        has_upper = True\n",
    "    elif char.islower():\n",
    "        has_lower = True\n",
    "    elif char.isdigit():\n",
    "        has_digit = True\n",
    "\n",
    "if len(password) >= 8 and has_upper and has_lower and has_digit:\n",
    "    print(\"Password is valid.\")\n",
    "else:\n",
    "    print(\"Password is invalid. It must be at least 8 characters long and include uppercase letters, lowercase letters, and digits.\")"
   ]
  },
  {
   "cell_type": "code",
   "execution_count": null,
   "id": "8fffb80e-b793-465e-9d61-5f51adadf5fe",
   "metadata": {},
   "outputs": [],
   "source": []
  }
 ],
 "metadata": {
  "kernelspec": {
   "display_name": "Python [conda env:base] *",
   "language": "python",
   "name": "conda-base-py"
  },
  "language_info": {
   "codemirror_mode": {
    "name": "ipython",
    "version": 3
   },
   "file_extension": ".py",
   "mimetype": "text/x-python",
   "name": "python",
   "nbconvert_exporter": "python",
   "pygments_lexer": "ipython3",
   "version": "3.12.7"
  }
 },
 "nbformat": 4,
 "nbformat_minor": 5
}
