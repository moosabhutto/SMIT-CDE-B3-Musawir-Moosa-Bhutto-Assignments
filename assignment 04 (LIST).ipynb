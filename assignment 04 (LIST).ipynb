{
 "cells": [
  {
   "cell_type": "markdown",
   "id": "0450895a-0b32-4be6-84de-ebd50932c26b",
   "metadata": {},
   "source": [
    "### assignment 04 (list)"
   ]
  },
  {
   "cell_type": "markdown",
   "id": "87234603-5094-4010-ac33-d2117427347a",
   "metadata": {},
   "source": [
    "1. Write a program that accepts a list from user and print the alternate element of list. "
   ]
  },
  {
   "cell_type": "code",
   "execution_count": 1,
   "id": "675c7e15-d566-4c12-8964-999766a05d24",
   "metadata": {},
   "outputs": [
    {
     "name": "stdin",
     "output_type": "stream",
     "text": [
      "Enter list elements separated by spaces:  the wind is crazy today\n"
     ]
    },
    {
     "name": "stdout",
     "output_type": "stream",
     "text": [
      "Alternate elements of your list are:\n",
      "['the', 'is', 'today']\n"
     ]
    }
   ],
   "source": [
    "\n",
    "user_input = input(\"Enter list elements separated by spaces: \")\n",
    "user_list = user_input.split()\n",
    "alternate_elements = []\n",
    "\n",
    "for i in range(0, len(user_list), 2):\n",
    "    alternate_elements.append(user_list[i])\n",
    "\n",
    "print(\"Alternate elements of your list are:\")\n",
    "print(alternate_elements)"
   ]
  },
  {
   "cell_type": "markdown",
   "id": "2a5396de-b462-45ce-940b-bb2e7581b21d",
   "metadata": {},
   "source": [
    "2. Write a program that accepts a list from user. Your program should reverse the content of list and \n",
    "display it. Do not use reverse() method"
   ]
  },
  {
   "cell_type": "code",
   "execution_count": 2,
   "id": "e5f4cbbb-222d-4bfc-a566-d5f145f3b91c",
   "metadata": {},
   "outputs": [
    {
     "name": "stdin",
     "output_type": "stream",
     "text": [
      "Enter list elements separated by spaces:  the mountains are big today\n"
     ]
    },
    {
     "name": "stdout",
     "output_type": "stream",
     "text": [
      "Here is your list in reverse order:\n",
      "['today', 'big', 'are', 'mountains', 'the']\n"
     ]
    }
   ],
   "source": [
    "\n",
    "items = input(\"Enter list elements separated by spaces: \")\n",
    "items_list = items.split()\n",
    "reversed_list = []\n",
    "index = len(items_list) - 1\n",
    "while index >= 0:\n",
    "    reversed_list.append(items_list[index])\n",
    "    index -= 1\n",
    "\n",
    "print(\"Here is your list in reverse order:\")\n",
    "print(reversed_list)"
   ]
  },
  {
   "cell_type": "markdown",
   "id": "6ed7d895-40f1-4f69-8675-54f132b05965",
   "metadata": {},
   "source": [
    "3. Find and display the largest number of a list without using built-in function max(). Your program \n",
    "should ask the user to input values in list from keyboard.  "
   ]
  },
  {
   "cell_type": "code",
   "execution_count": 4,
   "id": "fd577175-8e03-4d65-b06d-7b9f795ca346",
   "metadata": {},
   "outputs": [
    {
     "name": "stdin",
     "output_type": "stream",
     "text": [
      "Enter numbers separated by spaces:  23 45 67 89\n"
     ]
    }
   ],
   "source": [
    "\n",
    "user_input = input(\"Enter numbers separated by spaces: \")\n",
    "number_strings = user_input.split()\n",
    "numbers = []\n",
    "\n",
    "for item in number_strings:\n",
    "    numbers.append(int(item))"
   ]
  },
  {
   "cell_type": "markdown",
   "id": "5626d333-71ed-4416-9a3b-a91bd042dde6",
   "metadata": {},
   "source": [
    "4. Write a program that rotates the element of a list so that the element at the first index moves to the \n",
    "second index, the element in the second index moves to the third index, etc., and the element in the last \n",
    "index moves to the first index"
   ]
  },
  {
   "cell_type": "code",
   "execution_count": 5,
   "id": "f7f09244-228b-4b65-9ea4-47171732a5a3",
   "metadata": {},
   "outputs": [
    {
     "name": "stdin",
     "output_type": "stream",
     "text": [
      "Enter numbers separated by spaces:  23 45 67 89\n"
     ]
    },
    {
     "name": "stdout",
     "output_type": "stream",
     "text": [
      "The largest number in the list is: 89\n"
     ]
    }
   ],
   "source": [
    "\n",
    "user_input = input(\"Enter numbers separated by spaces: \")\n",
    "input_list = user_input.split()\n",
    "number_list = []\n",
    "for item in input_list:\n",
    "    number_list.append(int(item))\n",
    "    \n",
    "largest = number_list[0]\n",
    "for number in number_list:\n",
    "    if number > largest:\n",
    "        largest = number\n",
    "\n",
    "print(\"The largest number in the list is:\", largest)"
   ]
  },
  {
   "cell_type": "markdown",
   "id": "1faa51ff-65a4-4500-9bb8-528553b43238",
   "metadata": {},
   "source": [
    "5. Write a program that input a string and ask user to delete a given word from a string"
   ]
  },
  {
   "cell_type": "code",
   "execution_count": 6,
   "id": "c991c11b-e04a-44ff-8212-f0dc7b012b71",
   "metadata": {},
   "outputs": [
    {
     "name": "stdin",
     "output_type": "stream",
     "text": [
      "Enter a sentence:  i am the best ever\n",
      "Enter the word you want to delete from the sentence:  ever\n"
     ]
    },
    {
     "name": "stdout",
     "output_type": "stream",
     "text": [
      "The sentence after deleting the word is:\n",
      "i am the best\n"
     ]
    }
   ],
   "source": [
    "\n",
    "input_sentence = input(\"Enter a sentence: \")\n",
    "word_to_remove = input(\"Enter the word you want to delete from the sentence: \")\n",
    "original_words = input_sentence.split()\n",
    "filtered_words = []\n",
    "\n",
    "for current_word in original_words:\n",
    "    if current_word != word_to_remove:\n",
    "        filtered_words.append(current_word)\n",
    "final_sentence = ' '.join(filtered_words)\n",
    "\n",
    "print(\"The sentence after deleting the word is:\")\n",
    "print(final_sentence)"
   ]
  },
  {
   "cell_type": "markdown",
   "id": "8ba68243-9358-4d7a-92b0-27a8c1c797dd",
   "metadata": {},
   "source": [
    "6. Write a program that reads a string from the user containing a date in the form mm/dd/yyyy. It \n",
    "should print the date in the form March 12, 2021."
   ]
  },
  {
   "cell_type": "code",
   "execution_count": 12,
   "id": "1479fbc8-4ac7-42d3-8a25-00f0591853d0",
   "metadata": {},
   "outputs": [
    {
     "name": "stdin",
     "output_type": "stream",
     "text": [
      "Enter a date (mm/dd/yyyy):  September 13 2006\n"
     ]
    },
    {
     "name": "stdout",
     "output_type": "stream",
     "text": [
      "Invalid date format. Please use mm/dd/yyyy\n"
     ]
    }
   ],
   "source": [
    "from datetime import datetime\n",
    "date_str = input(\"Enter a date (mm/dd/yyyy): \")\n",
    "try:\n",
    "    date_obj = datetime.strptime(date_str, \"%m/%d/%Y\")\n",
    "    print(date_obj.strftime(\"%B %d, %Y\"))\n",
    "except ValueError:\n",
    "    print(\"Invalid date format. Please use mm/dd/yyyy\")"
   ]
  },
  {
   "cell_type": "markdown",
   "id": "a06db773-0d32-4b84-a176-1b4acdd02f07",
   "metadata": {},
   "source": [
    "7. Write a program with a function that accepts a string from keyboard and create a new string after \n",
    "converting character of each word capitalized. For instance, if the sentence is \"stop and smell the roses.\" \n",
    "the output should be \"Stop And Smell The Roses\""
   ]
  },
  {
   "cell_type": "code",
   "execution_count": 13,
   "id": "2953c02b-7eaf-4f7e-a2a0-3c755d4e7031",
   "metadata": {},
   "outputs": [
    {
     "name": "stdin",
     "output_type": "stream",
     "text": [
      "Enter a sentence:  stop and smell and the roses\n"
     ]
    },
    {
     "name": "stdout",
     "output_type": "stream",
     "text": [
      "Output: Stop And Smell And The Roses\n"
     ]
    }
   ],
   "source": [
    "def capitalize_each_word(input_sentence):\n",
    "    sentence_words = input_sentence.split()\n",
    "    \n",
    "    capitalized_words_list = []\n",
    "    for word in sentence_words:\n",
    "        capitalized_word = word.capitalize()\n",
    "        capitalized_words_list.append(capitalized_word)\n",
    "    output_sentence = ' '.join(capitalized_words_list)\n",
    "    \n",
    "    return output_sentence\n",
    "input_sentence_from_user = input(\"Enter a sentence: \")\n",
    "capitalized_sentence_output = capitalize_each_word(input_sentence_from_user)\n",
    "print(\"Output:\", capitalized_sentence_output)"
   ]
  },
  {
   "cell_type": "markdown",
   "id": "0579c4d1-0743-495c-b355-5e9082ce5261",
   "metadata": {},
   "source": [
    "8. Find the sum of each row of matrix of size m x n. For example for the following matrix output will be \n",
    "like this : \n",
    "Sum of row 1 = 32 \n",
    "Sum of row 2 = 31 \n",
    "Sum of row 3 = 63 "
   ]
  },
  {
   "cell_type": "code",
   "execution_count": 14,
   "id": "888e45f1-79bf-4441-99ec-065125f799f4",
   "metadata": {},
   "outputs": [
    {
     "name": "stdin",
     "output_type": "stream",
     "text": [
      "Enter the number of rows (m):  3\n",
      "Enter the number of columns (n):  3\n",
      "Enter the elements of row 1 separated by spaces:  23 45 67\n",
      "Enter the elements of row 2 separated by spaces:  12 34 56\n",
      "Enter the elements of row 3 separated by spaces:  13 57 80\n"
     ]
    },
    {
     "name": "stdout",
     "output_type": "stream",
     "text": [
      "Sum of row 1 = 135\n",
      "Sum of row 2 = 102\n",
      "Sum of row 3 = 150\n"
     ]
    }
   ],
   "source": [
    "def sum_of_each_row(matrix):\n",
    "    for row_index in range(len(matrix)):\n",
    "        row_sum = 0 \n",
    "        for element in matrix[row_index]:\n",
    "            row_sum += element\n",
    "        print(f\"Sum of row {row_index + 1} = {row_sum}\")\n",
    "\n",
    "m = int(input(\"Enter the number of rows (m): \"))\n",
    "n = int(input(\"Enter the number of columns (n): \"))\n",
    "matrix_input = []\n",
    "for row_index in range(m):\n",
    "    row_input = list(map(int, input(f\"Enter the elements of row {row_index + 1} separated by spaces: \").split()))\n",
    "    matrix_input.append(row_input)\n",
    "\n",
    "sum_of_each_row(matrix_input)"
   ]
  },
  {
   "cell_type": "markdown",
   "id": "94e1d1ca-0ec1-4309-9706-bc196ba272bd",
   "metadata": {},
   "source": [
    "9. Write a program to add two matrices of size n x m."
   ]
  },
  {
   "cell_type": "code",
   "execution_count": 15,
   "id": "895c75c7-7ecf-497e-9749-23004e11bd61",
   "metadata": {},
   "outputs": [
    {
     "name": "stdin",
     "output_type": "stream",
     "text": [
      "Enter the number of rows (n):  3\n",
      "Enter the number of columns (m):  3\n"
     ]
    },
    {
     "name": "stdout",
     "output_type": "stream",
     "text": [
      "Enter elements for the first matrix (3 x 3):\n"
     ]
    },
    {
     "name": "stdin",
     "output_type": "stream",
     "text": [
      "Enter the elements for row 1:  12 34 56\n",
      "Enter the elements for row 2:  23 45 67\n",
      "Enter the elements for row 3:  13 46 79\n"
     ]
    },
    {
     "name": "stdout",
     "output_type": "stream",
     "text": [
      "Enter elements for the second matrix (3 x 3):\n"
     ]
    },
    {
     "name": "stdin",
     "output_type": "stream",
     "text": [
      "Enter the elements for row 1:  21 43 65\n",
      "Enter the elements for row 2:  32 54 76\n",
      "Enter the elements for row 3:  98 76 54\n"
     ]
    },
    {
     "name": "stdout",
     "output_type": "stream",
     "text": [
      "\n",
      "Resulting Matrix after Addition:\n",
      "33 77 121\n",
      "55 99 143\n",
      "111 122 133\n"
     ]
    }
   ],
   "source": [
    "def add_matrices(first_matrix, second_matrix, rows, cols):\n",
    "    result_matrix = []\n",
    "    for row_index in range(rows):\n",
    "        result_row = []\n",
    "        for col_index in range(cols):\n",
    "            sum_of_elements = first_matrix[row_index][col_index] + second_matrix[row_index][col_index]\n",
    "            result_row.append(sum_of_elements)\n",
    "        result_matrix.append(result_row)\n",
    "    print(\"\\nResulting Matrix after Addition:\")\n",
    "    for row in result_matrix:\n",
    "        print(\" \".join(map(str, row)))\n",
    "rows = int(input(\"Enter the number of rows (n): \"))\n",
    "cols = int(input(\"Enter the number of columns (m): \"))\n",
    "first_matrix = []\n",
    "second_matrix = []\n",
    "print(f\"Enter elements for the first matrix ({rows} x {cols}):\")\n",
    "for row in range(rows):\n",
    "    row_values = list(map(int, input(f\"Enter the elements for row {row + 1}: \").split()))\n",
    "    first_matrix.append(row_values)\n",
    "print(f\"Enter elements for the second matrix ({rows} x {cols}):\")\n",
    "for row in range(rows):\n",
    "    row_values = list(map(int, input(f\"Enter the elements for row {row + 1}: \").split()))\n",
    "    second_matrix.append(row_values)\n",
    "add_matrices(first_matrix, second_matrix, rows, cols)\n"
   ]
  },
  {
   "cell_type": "markdown",
   "id": "3eb04d6d-8dba-4065-aa2c-2bde1903803d",
   "metadata": {},
   "source": [
    "10. Write a program to multiply two matrices "
   ]
  },
  {
   "cell_type": "code",
   "execution_count": 16,
   "id": "fcdae41a-bee4-4313-a705-d40ca0c62804",
   "metadata": {},
   "outputs": [
    {
     "name": "stdin",
     "output_type": "stream",
     "text": [
      "Enter the number of rows for the first matrix:  3\n",
      "Enter the number of columns for the first matrix:  3\n",
      "Enter the number of rows for the second matrix:  3\n",
      "Enter the number of columns for the second matrix:  3\n"
     ]
    },
    {
     "name": "stdout",
     "output_type": "stream",
     "text": [
      "Enter elements for the first matrix (3 x 3):\n"
     ]
    },
    {
     "name": "stdin",
     "output_type": "stream",
     "text": [
      "Enter row 1:  12 34 56\n",
      "Enter row 2:  12 35 68\n",
      "Enter row 3:  98 76 54\n"
     ]
    },
    {
     "name": "stdout",
     "output_type": "stream",
     "text": [
      "Enter elements for the second matrix (3 x 3):\n"
     ]
    },
    {
     "name": "stdin",
     "output_type": "stream",
     "text": [
      "Enter row 1:  23 41 56\n",
      "Enter row 2:  43 21 23\n",
      "Enter row 3:  68 54 57\n"
     ]
    },
    {
     "name": "stdout",
     "output_type": "stream",
     "text": [
      "\n",
      "Resulting Matrix after Multiplication:\n",
      "5546 4230 4646\n",
      "6405 4899 5353\n",
      "9194 8530 10314\n"
     ]
    }
   ],
   "source": [
    "def multiply_matrices(first_matrix, second_matrix, rows1, cols1, rows2, cols2):\n",
    "    result_matrix = [[0] * cols2 for _ in range(rows1)]\n",
    "    for i in range(rows1):\n",
    "        for j in range(cols2):\n",
    "            for k in range(cols1):\n",
    "                result_matrix[i][j] += first_matrix[i][k] * second_matrix[k][j]\n",
    "    print(\"\\nResulting Matrix after Multiplication:\")\n",
    "    for row in result_matrix:\n",
    "        print(\" \".join(map(str, row)))\n",
    "rows1 = int(input(\"Enter the number of rows for the first matrix: \"))\n",
    "cols1 = int(input(\"Enter the number of columns for the first matrix: \"))\n",
    "rows2 = int(input(\"Enter the number of rows for the second matrix: \"))\n",
    "cols2 = int(input(\"Enter the number of columns for the second matrix: \"))\n",
    "if cols1 != rows2:\n",
    "    print(\"Error: Matrix multiplication not possible. The number of columns in the first matrix must be equal to the number of rows in the second matrix.\")\n",
    "else:\n",
    "    first_matrix = []\n",
    "    print(f\"Enter elements for the first matrix ({rows1} x {cols1}):\")\n",
    "    for i in range(rows1):\n",
    "        row = list(map(int, input(f\"Enter row {i + 1}: \").split()))\n",
    "        first_matrix.append(row)\n",
    "    second_matrix = []\n",
    "    print(f\"Enter elements for the second matrix ({rows2} x {cols2}):\")\n",
    "    for i in range(rows2):\n",
    "        row = list(map(int, input(f\"Enter row {i + 1}: \").split()))\n",
    "        second_matrix.append(row)\n",
    "    multiply_matrices(first_matrix, second_matrix, rows1, cols1, rows2, cols2)"
   ]
  },
  {
   "cell_type": "code",
   "execution_count": null,
   "id": "70473f52-c461-4522-a744-d2482745a2dc",
   "metadata": {},
   "outputs": [],
   "source": []
  }
 ],
 "metadata": {
  "kernelspec": {
   "display_name": "Python [conda env:base] *",
   "language": "python",
   "name": "conda-base-py"
  },
  "language_info": {
   "codemirror_mode": {
    "name": "ipython",
    "version": 3
   },
   "file_extension": ".py",
   "mimetype": "text/x-python",
   "name": "python",
   "nbconvert_exporter": "python",
   "pygments_lexer": "ipython3",
   "version": "3.12.7"
  }
 },
 "nbformat": 4,
 "nbformat_minor": 5
}
